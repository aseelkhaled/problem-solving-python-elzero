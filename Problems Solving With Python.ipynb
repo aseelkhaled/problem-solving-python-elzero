{
 "cells": [
  {
   "cell_type": "code",
   "execution_count": 46,
   "id": "f3fe753c",
   "metadata": {},
   "outputs": [],
   "source": [
    "import numpy as np\n",
    "import pandas as pd\n",
    "import string "
   ]
  },
  {
   "cell_type": "markdown",
   "id": "e82c18a7",
   "metadata": {},
   "source": [
    "# Problem solving 1"
   ]
  },
  {
   "cell_type": "code",
   "execution_count": 47,
   "id": "23bcabee",
   "metadata": {},
   "outputs": [],
   "source": [
    "def find_missing_letters_in (given_letters):\n",
    "    alpha = string.ascii_lowercase\n",
    "    start = alpha.index(given_letters[0])\n",
    "    for letters in alpha [start:]:\n",
    "        if letters not in given_letters:\n",
    "            return letters\n",
    "    return \"no missing letters in sequence\""
   ]
  },
  {
   "cell_type": "code",
   "execution_count": 48,
   "id": "4e9196d5",
   "metadata": {},
   "outputs": [
    {
     "name": "stdout",
     "output_type": "stream",
     "text": [
      "b\n"
     ]
    }
   ],
   "source": [
    "print(find_missing_letters_in('asdfg'))"
   ]
  },
  {
   "cell_type": "code",
   "execution_count": 49,
   "id": "6eaa4f8b",
   "metadata": {},
   "outputs": [
    {
     "name": "stdout",
     "output_type": "stream",
     "text": [
      "no missing letters in sequence\n"
     ]
    }
   ],
   "source": [
    "print(find_missing_letters_in('xyz'))"
   ]
  },
  {
   "cell_type": "code",
   "execution_count": 50,
   "id": "0efa9420",
   "metadata": {},
   "outputs": [
    {
     "name": "stdout",
     "output_type": "stream",
     "text": [
      "q\n"
     ]
    }
   ],
   "source": [
    "print(find_missing_letters_in('lmonp'))"
   ]
  },
  {
   "cell_type": "markdown",
   "id": "eb7ce8a2",
   "metadata": {},
   "source": [
    "# Problem solving 2\n",
    " Python function that finds the missing letter in a sequence of characters:"
   ]
  },
  {
   "cell_type": "code",
   "execution_count": 51,
   "id": "dfd1eb0d",
   "metadata": {},
   "outputs": [],
   "source": [
    "def convert(n):\n",
    "    string = str(n) \n",
    "    result=[]\n",
    "    for num in string:\n",
    "        result.append(int(num))\n",
    "        result.reverse()\n",
    "    return  result"
   ]
  },
  {
   "cell_type": "code",
   "execution_count": 52,
   "id": "3288fadc",
   "metadata": {},
   "outputs": [
    {
     "data": {
      "text/plain": [
       "[1, 6, 8, 5, 6, 9, 6]"
      ]
     },
     "execution_count": 52,
     "metadata": {},
     "output_type": "execute_result"
    }
   ],
   "source": [
    "convert(5689661)"
   ]
  },
  {
   "cell_type": "code",
   "execution_count": 53,
   "id": "341a2f76",
   "metadata": {},
   "outputs": [],
   "source": [
    "def convert(n):\n",
    "    return[int(num) for num in str(n)[::-1]]"
   ]
  },
  {
   "cell_type": "code",
   "execution_count": 54,
   "id": "29745946",
   "metadata": {},
   "outputs": [
    {
     "data": {
      "text/plain": [
       "[1, 6, 6, 9, 8, 6, 5]"
      ]
     },
     "execution_count": 54,
     "metadata": {},
     "output_type": "execute_result"
    }
   ],
   "source": [
    "convert(5689661)"
   ]
  },
  {
   "cell_type": "markdown",
   "id": "1ee0da84",
   "metadata": {},
   "source": [
    "# Problem solving 3\n",
    "\"Create a function that accepts two parameters:\n",
    "The first is a string from which characters will be removed.\n",
    "The second is the character(s) to be removed.\n",
    "Remove all specified characters from the string.\n",
    "The characters can be uppercase, lowercase, or symbols.\""
   ]
  },
  {
   "cell_type": "code",
   "execution_count": 55,
   "id": "ff966483",
   "metadata": {},
   "outputs": [],
   "source": [
    "def remove_char_from(word , c):\n",
    "    word_without_char = []\n",
    "    for char in word :\n",
    "        if char != c.lower() and char != c.upper():\n",
    "             word_without_char.append(char)\n",
    "    return \"\".join(word_without_char)"
   ]
  },
  {
   "cell_type": "code",
   "execution_count": 56,
   "id": "d9ba223a",
   "metadata": {},
   "outputs": [
    {
     "data": {
      "text/plain": [
       "'Aseel AbuRabie'"
      ]
     },
     "execution_count": 56,
     "metadata": {},
     "output_type": "execute_result"
    }
   ],
   "source": [
    "remove_char_from(\"Aseelcc AbuRabie\",\"c\" )"
   ]
  },
  {
   "cell_type": "code",
   "execution_count": 57,
   "id": "24a6686c",
   "metadata": {},
   "outputs": [],
   "source": [
    "def remove_char_from(word , c):\n",
    "    result = filter(lambda x:x != c.lower() and x != c.upper() , word)\n",
    "    return \"\".join( result)"
   ]
  },
  {
   "cell_type": "code",
   "execution_count": 58,
   "id": "af62e5da",
   "metadata": {},
   "outputs": [
    {
     "data": {
      "text/plain": [
       "'Aseel AbuRabie'"
      ]
     },
     "execution_count": 58,
     "metadata": {},
     "output_type": "execute_result"
    }
   ],
   "source": [
    "remove_char_from(\"Aseelcc AbuRabie\",\"c\" )"
   ]
  },
  {
   "cell_type": "markdown",
   "id": "5738f7cd",
   "metadata": {},
   "source": [
    "# Problem solving 4\n",
    "Create a function that accepts a string and returns the longest word in it."
   ]
  },
  {
   "cell_type": "code",
   "execution_count": 67,
   "id": "04912af5",
   "metadata": {},
   "outputs": [
    {
     "name": "stdout",
     "output_type": "stream",
     "text": [
      "Engineeerrrrrr\n"
     ]
    }
   ],
   "source": [
    "def longest_word_in(sentence):\n",
    "    count = 0\n",
    "    words_list = sentence.split(' ') \n",
    "    longest = \"\"  \n",
    "    for word in words_list:\n",
    "        if len(word) > count:\n",
    "            count = len(word)\n",
    "            longest = word            \n",
    "    return longest \n",
    "print(longest_word_in(\"Aseel Khaled AbuRabie Engineeerrrrrr\"))"
   ]
  },
  {
   "cell_type": "code",
   "execution_count": 69,
   "id": "97a7fc9b",
   "metadata": {},
   "outputs": [
    {
     "name": "stdout",
     "output_type": "stream",
     "text": [
      "Engineeerrrrrr\n"
     ]
    }
   ],
   "source": [
    "def longest_word_in(sentence):\n",
    "    count = 0  \n",
    "    longest = ''\n",
    "    words_list = sentence.split(' ')  \n",
    "    for word in words_list:\n",
    "        if len(word) > count:\n",
    "            count = len(word) \n",
    "            longest = word            \n",
    "    return longest  \n",
    "print(longest_word_in(\"Aseel Khaled AbuRabie Engineeerrrrrr\")) "
   ]
  },
  {
   "cell_type": "markdown",
   "id": "a60f145a",
   "metadata": {},
   "source": [
    "# Problem solving 5\n",
    "String قم بعض Function تقبل طك Parameter واحد وهو ال\n",
    "String المطلوب إزالة الكلمات المكررة من ال"
   ]
  },
  {
   "cell_type": "code",
   "execution_count": 77,
   "id": "191a56b5",
   "metadata": {},
   "outputs": [
    {
     "name": "stdout",
     "output_type": "stream",
     "text": [
      "AI Engineering & data Science Aseel Engineer\n"
     ]
    }
   ],
   "source": [
    "def remove_duplicate_words_from(sentence):\n",
    "    word_list = sentence.split(' ')  \n",
    "    result = []  \n",
    "    for word in word_list:\n",
    "        if word not in result: \n",
    "            result.append(word)  \n",
    "    return ' '.join(result)  \n",
    "\n",
    "\n",
    "print(remove_duplicate_words_from('AI Engineering & data Science Aseel AI Engineer'))"
   ]
  },
  {
   "cell_type": "code",
   "execution_count": 79,
   "id": "066c337a",
   "metadata": {},
   "outputs": [
    {
     "data": {
      "text/plain": [
       "'AI Engineering & data Science Aseel AI Engineer'"
      ]
     },
     "execution_count": 79,
     "metadata": {},
     "output_type": "execute_result"
    }
   ],
   "source": [
    "def remove_duplicate_words_from(sentence):\n",
    "    words_list = sentence.split(\".\")\n",
    "    unique_only = list(dict.fromkeys(words_list))\n",
    "    final_result = \".\".join(unique_only)\n",
    "    return final_result\n",
    "\n",
    "remove_duplicate_words_from('AI Engineering & data Science Aseel AI Engineer')"
   ]
  },
  {
   "attachments": {},
   "cell_type": "markdown",
   "id": "2b83b168",
   "metadata": {},
   "source": [
    "# Problem solving 6\n",
    "Create a Function:  \n",
    "With one Parameter named Add_commas_and_underscore  \n",
    "If the number consists of 7, 8 or 9 digits, add Underscore after certain digits and Commas after certain digits  \n",
    "If the number consists of 4, 5 or 6 digits, add Underscore after certain digits"
   ]
  },
  {
   "cell_type": "code",
   "execution_count": 80,
   "id": "90e8f47b",
   "metadata": {},
   "outputs": [
    {
     "name": "stdout",
     "output_type": "stream",
     "text": [
      "['120', '510', '650']\n"
     ]
    }
   ],
   "source": [
    "def add_commas_and_underscore(num):\n",
    "    formatted_num = f\"{num:,}\" \n",
    "    # Convert To List\n",
    "    to_list = formatted_num.split(\",\")\n",
    "    \n",
    "    return to_list\n",
    "\n",
    "print(add_commas_and_underscore(120510650))"
   ]
  },
  {
   "cell_type": "code",
   "execution_count": 82,
   "id": "332d46a6",
   "metadata": {},
   "outputs": [
    {
     "name": "stdout",
     "output_type": "stream",
     "text": [
      "120\n",
      "987\n"
     ]
    }
   ],
   "source": [
    "def add_commas_and_underscore(num):\n",
    "    # Use Commas As Thousands Separator\n",
    "    formatted_num = f\"{num:,}\"\n",
    "    \n",
    "    # Convert To List (from first code)\n",
    "    to_list = formatted_num.split(\",\")\n",
    "    \n",
    "    # Join first part (from second code)\n",
    "    first_join = \"\".join(to_list[0]) if to_list else \"\"\n",
    "    \n",
    "    # Convert To Int (from second code)\n",
    "    first_int = int(first_join) if first_join.isdigit() else 0\n",
    "    \n",
    "    # Formatting The First Part (from second code - corrected syntax)\n",
    "    first_format = f\"{first_int:,}\"\n",
    "    \n",
    "    return first_format\n",
    "\n",
    "# Testing Output\n",
    "print(add_commas_and_underscore(120510650))  \n",
    "print(add_commas_and_underscore(987654321)) "
   ]
  }
 ],
 "metadata": {
  "kernelspec": {
   "display_name": "Python 3 (ipykernel)",
   "language": "python",
   "name": "python3"
  },
  "language_info": {
   "codemirror_mode": {
    "name": "ipython",
    "version": 3
   },
   "file_extension": ".py",
   "mimetype": "text/x-python",
   "name": "python",
   "nbconvert_exporter": "python",
   "pygments_lexer": "ipython3",
   "version": "3.9.13"
  }
 },
 "nbformat": 4,
 "nbformat_minor": 5
}
